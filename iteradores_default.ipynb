{
 "cells": [
  {
   "cell_type": "code",
   "execution_count": 28,
   "metadata": {},
   "outputs": [],
   "source": [
    "import itertools"
   ]
  },
  {
   "cell_type": "code",
   "execution_count": 29,
   "metadata": {},
   "outputs": [
    {
     "name": "stdout",
     "output_type": "stream",
     "text": [
      "Banana\n",
      "Maça\n",
      "Goiaba\n",
      "Melancia\n"
     ]
    }
   ],
   "source": [
    "lista_frutas = ['Banana', 'Maça', 'Goiaba', 'Melancia']\n",
    "\n",
    "for fruta in lista_frutas:\n",
    "    print(fruta)"
   ]
  },
  {
   "cell_type": "code",
   "execution_count": 30,
   "metadata": {},
   "outputs": [
    {
     "name": "stdout",
     "output_type": "stream",
     "text": [
      "nome Jeremias\n",
      "idade 18\n"
     ]
    }
   ],
   "source": [
    "dicionario_pessoa = {\"nome\": \"Jeremias\", \"idade\": 18}\n",
    "\n",
    "for valor in dicionario_pessoa:\n",
    "    print(valor, dicionario_pessoa[valor])"
   ]
  },
  {
   "cell_type": "code",
   "execution_count": 24,
   "metadata": {},
   "outputs": [
    {
     "name": "stdout",
     "output_type": "stream",
     "text": [
      "0 Banana\n",
      "1 Maça\n",
      "2 Goiaba\n",
      "3 Melancia\n"
     ]
    }
   ],
   "source": [
    "#Enumerate tbm passa o indice da lista\n",
    "for indice, fruta in enumerate(lista_frutas):\n",
    "    print(indice, fruta)"
   ]
  },
  {
   "cell_type": "code",
   "execution_count": null,
   "metadata": {},
   "outputs": [
    {
     "name": "stdout",
     "output_type": "stream",
     "text": [
      "Ricardo 40\n",
      "Maria 21\n",
      "Sonia 19\n"
     ]
    }
   ],
   "source": [
    "#Juntando duas listas com zip\n",
    "lista_nome = [\"Ricardo\", \"Maria\", \"Sonia\"]\n",
    "lista_idade = [40, 21, 19]\n",
    "\n",
    "for nome, idade in zip(lista_nome, lista_idade):\n",
    "    print(nome, idade)"
   ]
  },
  {
   "cell_type": "code",
   "execution_count": 32,
   "metadata": {},
   "outputs": [
    {
     "name": "stdout",
     "output_type": "stream",
     "text": [
      "10\n",
      "12\n",
      "14\n",
      "16\n",
      "18\n",
      "20\n"
     ]
    }
   ],
   "source": [
    "for i in itertools.count(start=10, step=2):\n",
    "    if i > 20:\n",
    "        break\n",
    "    print(i)"
   ]
  }
 ],
 "metadata": {
  "kernelspec": {
   "display_name": "Python 3",
   "language": "python",
   "name": "python3"
  },
  "language_info": {
   "codemirror_mode": {
    "name": "ipython",
    "version": 3
   },
   "file_extension": ".py",
   "mimetype": "text/x-python",
   "name": "python",
   "nbconvert_exporter": "python",
   "pygments_lexer": "ipython3",
   "version": "3.11.9"
  }
 },
 "nbformat": 4,
 "nbformat_minor": 2
}
